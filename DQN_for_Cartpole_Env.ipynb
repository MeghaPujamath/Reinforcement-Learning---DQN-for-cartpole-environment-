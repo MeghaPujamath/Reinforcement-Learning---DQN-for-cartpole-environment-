{
  "nbformat": 4,
  "nbformat_minor": 0,
  "metadata": {
    "colab": {
      "provenance": [],
      "collapsed_sections": [],
      "authorship_tag": "ABX9TyOKIZvz9zNq+7aAwcnWL0fW",
      "include_colab_link": true
    },
    "kernelspec": {
      "name": "python3",
      "display_name": "Python 3"
    },
    "language_info": {
      "name": "python"
    }
  },
  "cells": [
    {
      "cell_type": "markdown",
      "metadata": {
        "id": "view-in-github",
        "colab_type": "text"
      },
      "source": [
        "<a href=\"https://colab.research.google.com/github/MeghaPujamath/Reinforcement-Learning---DQN-for-cartpole-environment-/blob/main/DQN_for_Cartpole_Env.ipynb\" target=\"_parent\"><img src=\"https://colab.research.google.com/assets/colab-badge.svg\" alt=\"Open In Colab\"/></a>"
      ]
    },
    {
      "cell_type": "markdown",
      "source": [
        "**Import all libraries**"
      ],
      "metadata": {
        "id": "SH8ICseYxCUB"
      }
    },
    {
      "cell_type": "code",
      "source": [
        "import torch\n",
        "from torch import nn\n",
        "import random\n",
        "import gym\n",
        "import itertools\n",
        "import matplotlib\n",
        "import matplotlib.pyplot as plt\n",
        "import numpy as np\n",
        "from collections import deque\n",
        "\n",
        "import torch.optim as optim\n",
        "import torch.nn.functional as F\n",
        "import torchvision.transforms as T\n",
        "from PIL import Image\n",
        "\n",
        "# set up matplotlib\n",
        "is_ipython = 'inline' in matplotlib.get_backend()\n",
        "if is_ipython:\n",
        "    from IPython import display\n",
        "\n",
        "plt.ion()"
      ],
      "metadata": {
        "id": "dG3W-Ec4tQMX"
      },
      "execution_count": 125,
      "outputs": []
    },
    {
      "cell_type": "markdown",
      "source": [
        "**Hyper-parameters Initialization**"
      ],
      "metadata": {
        "id": "gS1GUHT-xKfH"
      }
    },
    {
      "cell_type": "code",
      "source": [
        "batch_size = 32 #No of transitions that we sample from replay buffer while calculating gradients\n",
        "n_episodes = 1001\n",
        "discountFactor = 0.99\n",
        "epsilon = 1.0\n",
        "epsilonFactor = 10000\n",
        "minEpsilon = 0.02\n",
        "learning_rate = 0.001\n",
        "buffer_size = 50000 #Max No of trqnsitions that we store before clearing out\n",
        "min_replay_size = 1000 #No of transitions stored in replay buffer before we start computing gradients and training\n",
        "target_update_fre = 1000 #no of steps that we update target paramters equal to online parameters\n",
        "episode_length = 100"
      ],
      "metadata": {
        "id": "nREn8kxJtWfN"
      },
      "execution_count": 126,
      "outputs": []
    },
    {
      "cell_type": "markdown",
      "source": [
        "**Environment Settings**"
      ],
      "metadata": {
        "id": "MdGmSYGgxSdR"
      }
    },
    {
      "cell_type": "code",
      "source": [
        "env = gym.make('CartPole-v0')\n",
        "memory = deque(maxlen=buffer_size)\n",
        "reward_buffer = deque()\n",
        "\n",
        "state_size = env.observation_space.shape\n",
        "action_size = env.action_space.n"
      ],
      "metadata": {
        "id": "7Lp0ad6ltYSn"
      },
      "execution_count": 127,
      "outputs": []
    },
    {
      "cell_type": "markdown",
      "source": [
        "**Neural Network Class Implementation**"
      ],
      "metadata": {
        "id": "l26QjdHAxV_k"
      }
    },
    {
      "cell_type": "code",
      "source": [
        "class ModelNetwork(nn.Module):\n",
        "  def __init__(self, env):\n",
        "    super().__init__()\n",
        "    input_features = int(np.prod(state_size))\n",
        "    self.net = nn.Sequential(nn.Linear(input_features, 64), nn.Tanh(), nn.Linear(64, action_size))\n",
        "\n",
        "  def forward(self, x):\n",
        "    return self.net(x)\n",
        "\n",
        "  def act(self, state):\n",
        "    state_t = torch.as_tensor(state, dtype=torch.float32) #converting state to torch tensor\n",
        "    q_values = main_net(state_t.unsqueeze(0)) #Creating fake batch dimensions of 1\n",
        "\n",
        "    max_q_index = torch.argmax(q_values, dim=1)[0]\n",
        "    action = max_q_index.detach().item() # converting torch tensor to integer\n",
        "    return action"
      ],
      "metadata": {
        "id": "7WgUdBTvta3a"
      },
      "execution_count": 128,
      "outputs": []
    },
    {
      "cell_type": "markdown",
      "source": [],
      "metadata": {
        "id": "28YuD2Tuxb6v"
      }
    },
    {
      "cell_type": "markdown",
      "source": [
        "**Initializing Networks**"
      ],
      "metadata": {
        "id": "3veW-O5FzH7P"
      }
    },
    {
      "cell_type": "code",
      "source": [
        "main_net = ModelNetwork(env) #Main network is actually trained\n",
        "target_net = ModelNetwork(env) #target network is used to generate target values or ground truth\n",
        "\n",
        "target_net.load_state_dict(main_net.state_dict())\n",
        "optimizer = torch.optim.Adam(main_net.parameters(), learning_rate)"
      ],
      "metadata": {
        "id": "CW4KKCd0tf1p"
      },
      "execution_count": 129,
      "outputs": []
    },
    {
      "cell_type": "markdown",
      "source": [
        "**Defining Replay Buffer Class**"
      ],
      "metadata": {
        "id": "pWWvdQvJzM95"
      }
    },
    {
      "cell_type": "code",
      "source": [
        "class ReplayBuffer:\n",
        "  def __init__(self, buffer_size=buffer_size):\n",
        "    self.buffer_size = buffer_size\n",
        "    self.buffer = deque(maxlen=self.buffer_size)\n",
        "  \n",
        "  def insert_replayBuffer(self, state, action, reward, next_state, done):\n",
        "    self.buffer.append((state, action, reward, next_state, done))\n",
        "  \n",
        "  def sample_replayBuffer(self, batch_size):\n",
        "    return random.sample(self.buffer, batch_size)\n",
        "  \n",
        "  def buffer_initialization(self, env, min_replay_size):\n",
        "    state = env.reset()\n",
        "    for _ in range(min_replay_size):\n",
        "      action = env.action_space.sample()\n",
        "      next_state, reward, done, _ = env.step(action)\n",
        "      self.insert_replayBuffer(state, action, reward, next_state, done)\n",
        "\n",
        "      state = next_state\n",
        "      if done:\n",
        "        state = env.reset()"
      ],
      "metadata": {
        "id": "-1EOmCj4t0Xd"
      },
      "execution_count": 131,
      "outputs": []
    },
    {
      "cell_type": "markdown",
      "source": [
        "**Replay Buffer Training Function**"
      ],
      "metadata": {
        "id": "5dMmPmfPzQYJ"
      }
    },
    {
      "cell_type": "code",
      "source": [
        "def ReplayBufferLearn(batch_size, minibatch):\n",
        "    states = np.asarray([m[0] for m in minibatch])\n",
        "    actions = np.asarray([m[1] for m in minibatch])\n",
        "    rewards = np.asarray([m[2] for m in minibatch])\n",
        "    next_states = np.asarray([m[3] for m in minibatch])\n",
        "    dones = np.asarray([m[4] for m in minibatch])\n",
        "\n",
        "    states_t = torch.as_tensor(states, dtype=torch.float32)\n",
        "    actions_t = torch.as_tensor(actions, dtype=torch.int64).unsqueeze(-1)\n",
        "    rewards_t = torch.as_tensor(rewards, dtype=torch.float32).unsqueeze(-1)\n",
        "    done_t = torch.as_tensor(dones, dtype=torch.float32).unsqueeze(-1)\n",
        "    next_states_t = torch.as_tensor(next_states, dtype=torch.float32)\n",
        "\n",
        "    #Actual q values or ground truth from target network using next state\n",
        "    target_q_values = target_net(next_states_t) \n",
        "    max_target_q_values = target_q_values.max(dim=1, keepdim=True)[0]\n",
        "    targets = rewards_t + discountFactor*(1-done_t)*max_target_q_values\n",
        "    # test = torch.tensor(targets, requires_grad=True)\n",
        "\n",
        "    #Predicted q values from main network using current state\n",
        "    q_values = main_net(states_t)\n",
        "    # action_q_values, _ = torch.max(q_values, axis=1)\n",
        "    action_q_values = torch.gather(input=q_values, dim=1, index=actions_t)\n",
        "    # test2 = torch.tensor(action_q_values, requires_grad=True)\n",
        "\n",
        "    #Compute Losses\n",
        "    # loss = nn.functional.smooth_l1_loss(action_q_values, targets)\n",
        "    loss = torch.nn.MSELoss()(action_q_values, targets)\n",
        "\n",
        "    #Gradient Descent Step\n",
        "    optimizer.zero_grad()\n",
        "    loss.backward()\n",
        "    optimizer.step()\n",
        "\n",
        "    return loss.item()"
      ],
      "metadata": {
        "id": "1Eurc_sPug_M"
      },
      "execution_count": 132,
      "outputs": []
    },
    {
      "cell_type": "markdown",
      "source": [
        "Training Loop"
      ],
      "metadata": {
        "id": "7-eU0r80zUy7"
      }
    },
    {
      "cell_type": "code",
      "execution_count": null,
      "metadata": {
        "id": "sT_HAjVp9S_R"
      },
      "outputs": [],
      "source": [
        "rb = ReplayBuffer()\n",
        "rb.buffer_initialization(env, min_replay_size)\n",
        "episode_reward = 0.0\n",
        "losses_list, reward_list, episode_len_list, epsilon_list  = [], [], [], []\n",
        "loss_test = []\n",
        "loss_test2 = []\n",
        "losses = 0\n",
        "state = env.reset()\n",
        "steps = 0\n",
        "epis_len = 0\n",
        "for e in itertools.count():\n",
        "  epis_len += 1\n",
        "  epsi = np.interp(e, [0, epsilonFactor], [epsilon, minEpsilon])\n",
        "  if random.random() <= epsi:\n",
        "    action = env.action_space.sample() #random action selection i.e exploring\n",
        "  else:\n",
        "    action = main_net.act(state)\n",
        "\n",
        "  next_state, reward, done, _ = env.step(action)\n",
        "  memory.append((state, action, reward, next_state, done))\n",
        "\n",
        "  state = next_state\n",
        "  episode_reward += reward\n",
        "  if done:\n",
        "    steps += 1\n",
        "    state = env.reset()\n",
        "    reward_buffer.append(episode_reward)\n",
        "    \n",
        "    losses_list.append(losses/epis_len)\n",
        "\n",
        "    print(f'At Episode {steps} with Reward {episode_reward} and Average Reward {np.mean(reward_buffer)}')\n",
        "    episode_reward = 0.0\n",
        "    epis_len = 0\n",
        "\n",
        "  miniBatch = rb.sample_replayBuffer(batch_size)\n",
        "  loss = ReplayBufferLearn(batch_size, miniBatch)\n",
        "  losses += loss\n",
        "\n",
        "  #Update the Target Network\n",
        "  if e % target_update_fre== 0:\n",
        "    target_net.load_state_dict(main_net.state_dict())\n",
        "  \n",
        "  epsilon_list.append(epsi)\n",
        "  \n",
        "  if(len(reward_buffer) > 700):\n",
        "    break"
      ]
    },
    {
      "cell_type": "code",
      "source": [
        "fig, ax = plt.subplots()\n",
        "plt.title('DQN - episodes vs rewards')\n",
        "plt.plot(reward_buffer, label='DQN Implementation')\n",
        "plt.xlabel(\"episode\")\n",
        "plt.ylabel(\"rewards\")\n",
        "plt.legend()\n",
        "plt.show()"
      ],
      "metadata": {
        "colab": {
          "base_uri": "https://localhost:8080/",
          "height": 295
        },
        "id": "zly71Pix91J2",
        "outputId": "0e498d19-60d0-43d7-9994-14053d147862"
      },
      "execution_count": 134,
      "outputs": [
        {
          "output_type": "display_data",
          "data": {
            "text/plain": [
              "<Figure size 432x288 with 1 Axes>"
            ],
            "image/png": "[encoded data removed]"
          },
          "metadata": {
            "needs_background": "light"
          }
        }
      ]
    },
    {
      "cell_type": "code",
      "source": [
        "fig, ax = plt.subplots()\n",
        "plt.title('Epsilon Decay - episodes vs epsilon')\n",
        "plt.plot(epsilon_list, label='DQN Implementation')\n",
        "plt.xlabel(\"epsilon\")\n",
        "plt.ylabel(\"rewards\")\n",
        "plt.legend()\n",
        "plt.show()"
      ],
      "metadata": {
        "colab": {
          "base_uri": "https://localhost:8080/",
          "height": 295
        },
        "id": "b7uwEMDQo8bZ",
        "outputId": "683184a8-5e6b-4a62-8d2c-abc7a8189a2a"
      },
      "execution_count": 135,
      "outputs": [
        {
          "output_type": "display_data",
          "data": {
            "text/plain": [
              "<Figure size 432x288 with 1 Axes>"
            ],
            "image/png": "[encoded data removed]"
          },
          "metadata": {
            "needs_background": "light"
          }
        }
      ]
    }
  ]
}